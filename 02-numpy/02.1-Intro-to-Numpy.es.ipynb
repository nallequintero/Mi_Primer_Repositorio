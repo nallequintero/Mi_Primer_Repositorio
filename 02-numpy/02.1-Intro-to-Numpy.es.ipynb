{
  "cells": [
    {
      "cell_type": "markdown",
      "metadata": {
        "id": "view-in-github",
        "colab_type": "text"
      },
      "source": [
        "<a href=\"https://colab.research.google.com/github/nallequintero/Mi_Primer_Repositorio/blob/main/02-numpy/02.1-Intro-to-Numpy.es.ipynb\" target=\"_parent\"><img src=\"https://colab.research.google.com/assets/colab-badge.svg\" alt=\"Open In Colab\"/></a>"
      ]
    },
    {
      "cell_type": "markdown",
      "id": "bdfbcacc",
      "metadata": {
        "id": "bdfbcacc"
      },
      "source": [
        "![Logo de NumPy](https://github.com/4GeeksAcademy/machine-learning-prework/blob/main/02-numpy/assets/numpy_logo.png?raw=true)\n",
        "\n",
        "## Introducción a NumPy\n",
        "\n",
        "`NumPy` es un juego de palabras que significa **Python numérico** (*Numerical Python*). Es una librería de código abierto que se utiliza para llevar a cabo tareas matemáticas con altísima eficiencia. Además, introduce estructuras de datos como los arrays multidimensionales, que se pueden operar entre ellos a alto nivel, sin meterse mucho en el detalle.\n",
        "\n",
        "En concreto, las claves de esta librería son:\n",
        "\n",
        "- **Array multidimensionales**: Esta librería proporciona un objeto llamado `ndarray`, que permite almacenar y manipular grandes conjuntos de datos de forma eficiente. Los arrays pueden tener cualquier número de dimensiones.\n",
        "- **Operaciones Vectorizadas**: NumPy permite realizar operaciones matemáticas en arrays completos sin la necesidad de bucles explícitos en el código, lo que lo hace muy rápido y eficiente.\n",
        "- **Funciones matemáticas**: NumPy proporciona una amplia gama de funciones matemáticas para trabajar con arrays, incluyendo funciones trigonométricas, estadísticas, álgebra lineal, entre otras.\n",
        "- **Eficiencia**: Es mucho más rápido que la misma funcionalidad implementada directamente sobre Python nativo. Además, es muy flexible en términos de acceso y manipulación de elementos individuales o subconjuntos de arrays.\n",
        "\n",
        "NumPy es una biblioteca fundamental para el Machine Learning y la ciencia de los datos en Python. Proporciona una amplia gama de herramientas y funciones para trabajar eficientemente con datos numéricos en forma de arrays y matrices."
      ]
    },
    {
      "cell_type": "markdown",
      "id": "dc410026",
      "metadata": {
        "id": "dc410026"
      },
      "source": [
        "### Arrays\n",
        "\n",
        "Un **array** de NumPy es una estructura de datos que permite almacenar una colección de elementos, generalmente números, en una o más dimensiones.\n",
        "\n",
        "#### Array unidimensional\n",
        "\n",
        "Un array unidimensional (1D) de NumPy es una estructura de datos que contiene una secuencia de elementos en una única dimensión. Es similar a una lista en Python, pero con las ventajas de rendimiento y funcionalidad que ofrece NumPy.\n",
        "\n",
        "![Array de una dimensión](https://github.com/4GeeksAcademy/machine-learning-prework/blob/main/02-numpy/assets/1D.png?raw=true \"1D\")\n",
        "\n",
        "Un array 1D puede ser creado usando la función `array` de la librería con una lista de elementos como argumento. Por ejemplo:"
      ]
    },
    {
      "cell_type": "code",
      "execution_count": 2,
      "id": "d8a0686b",
      "metadata": {
        "id": "d8a0686b",
        "outputId": "3b033d20-cd34-4975-b76b-4073ac0383ea",
        "colab": {
          "base_uri": "https://localhost:8080/"
        }
      },
      "outputs": [
        {
          "output_type": "execute_result",
          "data": {
            "text/plain": [
              "array([1, 2, 3, 4, 5])"
            ]
          },
          "metadata": {},
          "execution_count": 2
        }
      ],
      "source": [
        "import numpy as np\n",
        "\n",
        "array = np.array([1, 2, 3, 4, 5])\n",
        "array"
      ]
    },
    {
      "cell_type": "markdown",
      "id": "e090f7a0",
      "metadata": {
        "id": "e090f7a0"
      },
      "source": [
        "Esto creará un array 1D con los elementos 1, 2, 3, 4 y 5. Los elementos del array deben ser del mismo tipo de datos. Si los elementos son de diferentes tipos, NumPy intentará convertirlos al mismo tipo si es posible.\n",
        "\n",
        "En un array 1D, podemos acceder a los elementos usando **índices** (*indexes*), modificarlos y realizar operaciones matemáticas en el array completo de forma eficiente. A continuación se muestran algunas operaciones que se pueden realizar utilizando el array anterior:"
      ]
    },
    {
      "cell_type": "code",
      "execution_count": 3,
      "id": "a56cb1b0",
      "metadata": {
        "id": "a56cb1b0",
        "outputId": "caf603d4-a953-41fd-831a-f4b49943990d",
        "colab": {
          "base_uri": "https://localhost:8080/"
        }
      },
      "outputs": [
        {
          "output_type": "stream",
          "name": "stdout",
          "text": [
            "3\n",
            "[1 7 3 4 5]\n",
            "[11 17 13 14 15]\n",
            "70\n"
          ]
        }
      ],
      "source": [
        "# Acceder al tercer elemento\n",
        "print(array[2])\n",
        "\n",
        "# Cambiar el valor del segundo elemento\n",
        "array[1] = 7\n",
        "print(array)\n",
        "\n",
        "# Sumar 10 a todos los elementos\n",
        "array += 10\n",
        "print(array)\n",
        "\n",
        "# Calcular la suma de los elementos\n",
        "sum_all = np.sum(array)\n",
        "print(sum_all)"
      ]
    },
    {
      "cell_type": "markdown",
      "id": "322771b1",
      "metadata": {
        "id": "322771b1"
      },
      "source": [
        "#### Array N-dimensional\n",
        "\n",
        "Un array multidimensional o n-dimensional en NumPy es una estructura de datos que organiza elementos en múltiples dimensiones (ejes). Estos arrays permiten representar estructuras de datos más complejas, como matrices (array 2D, 2 ejes), tensores (array 3D, 3 ejes) y estructuras de mayor dimensión.\n",
        "\n",
        "![Arrays de diferentes dimensiones](https://github.com/4GeeksAcademy/machine-learning-prework/blob/main/02-numpy/assets/3D.png?raw=true \"3D\")\n",
        "\n",
        "Un array N-dimensional puede ser creado también usando la función `array` de la librería. Por ejemplo, si queremos crear un array 2D:"
      ]
    },
    {
      "cell_type": "code",
      "execution_count": 4,
      "id": "2033ba3c",
      "metadata": {
        "id": "2033ba3c",
        "outputId": "d31cde97-31fa-4b36-d0a4-8707bf2e8fc0",
        "colab": {
          "base_uri": "https://localhost:8080/"
        }
      },
      "outputs": [
        {
          "output_type": "execute_result",
          "data": {
            "text/plain": [
              "array([[1, 2, 3],\n",
              "       [4, 5, 6],\n",
              "       [7, 8, 9]])"
            ]
          },
          "metadata": {},
          "execution_count": 4
        }
      ],
      "source": [
        "array_2d = np.array([[1, 2, 3], [4, 5, 6], [7, 8, 9]])\n",
        "array_2d"
      ]
    },
    {
      "cell_type": "markdown",
      "id": "d3dac6c2",
      "metadata": {
        "id": "d3dac6c2"
      },
      "source": [
        "Si ahora quisiéramos crear un array 3D, tendríamos que pensar en él como una lista de matrices:"
      ]
    },
    {
      "cell_type": "code",
      "execution_count": 5,
      "id": "bc914841",
      "metadata": {
        "id": "bc914841",
        "outputId": "feb9502e-63f5-4e38-bf88-a44399117ceb",
        "colab": {
          "base_uri": "https://localhost:8080/"
        }
      },
      "outputs": [
        {
          "output_type": "execute_result",
          "data": {
            "text/plain": [
              "array([[[1, 2],\n",
              "        [3, 4]],\n",
              "\n",
              "       [[5, 6],\n",
              "        [7, 8]]])"
            ]
          },
          "metadata": {},
          "execution_count": 5
        }
      ],
      "source": [
        "array_3d = np.array([[[1, 2], [3, 4]], [[5, 6], [7, 8]]])\n",
        "array_3d"
      ]
    },
    {
      "cell_type": "markdown",
      "id": "da7bcb64",
      "metadata": {
        "id": "da7bcb64"
      },
      "source": [
        "Al igual que sucedía con los arrays 1D, los elementos en un array multidimensional son accesibles mediante índices, se pueden realizar operaciones con ellos, etcétera.\n",
        "\n",
        "A medida que agregamos más dimensiones, el principio básico sigue siendo el mismo: cada dimensión adicional puede considerarse como un nivel adicional de anidamiento. Sin embargo, a nivel práctico, trabajar con arrays de más de 3 o 4 dimensiones puede volverse más complejo y menos intuitivo.\n",
        "\n",
        "Los arrays n-dimensionales en NumPy permiten una gran flexibilidad y potencia para representar y manipular datos en formas más complejas, especialmente útiles en campos como la ciencia de los datos, procesamiento de imágenes y aprendizaje profundo."
      ]
    },
    {
      "cell_type": "markdown",
      "id": "d699ac98",
      "metadata": {
        "id": "d699ac98"
      },
      "source": [
        "### Funciones\n",
        "\n",
        "NumPy proporciona una gran cantidad de funciones predefinidas y que se pueden aplicar directamente sobre las estructuras de datos vistas anteriormente o las propias de Python (listas, matrices, etcétera). Algunas de las más utilizadas en el análisis de datos son:"
      ]
    },
    {
      "cell_type": "code",
      "source": [
        "import numpy as np\n",
        "\n",
        "# Crear un array para el ejemplo\n",
        "arr = np.array([1, 2, 3, 4, 5])"
      ],
      "metadata": {
        "id": "6sXDG65HwU1p"
      },
      "id": "6sXDG65HwU1p",
      "execution_count": 6,
      "outputs": []
    },
    {
      "cell_type": "code",
      "source": [
        "# Operaciones Aritméticas\n",
        "print(\"Suma:\", np.add(arr, 5))\n",
        "print(\"Producto:\", np.multiply(arr, 3))\n"
      ],
      "metadata": {
        "id": "1soXoZTfwUlH",
        "outputId": "7c6af715-12b4-45e0-9e6e-41811b706be5",
        "colab": {
          "base_uri": "https://localhost:8080/"
        }
      },
      "id": "1soXoZTfwUlH",
      "execution_count": 7,
      "outputs": [
        {
          "output_type": "stream",
          "name": "stdout",
          "text": [
            "Suma: [ 6  7  8  9 10]\n",
            "Producto: [ 3  6  9 12 15]\n"
          ]
        }
      ]
    },
    {
      "cell_type": "code",
      "source": [
        "# Logarítmicas y Exponenciales\n",
        "print(\"Logaritmo natural:\", np.log(arr))\n",
        "print(\"Exponencial:\", np.exp(arr))\n"
      ],
      "metadata": {
        "id": "QiCBOz6kwecB",
        "outputId": "0ea913fc-f7da-4520-f558-9ba976c8d513",
        "colab": {
          "base_uri": "https://localhost:8080/"
        }
      },
      "id": "QiCBOz6kwecB",
      "execution_count": 8,
      "outputs": [
        {
          "output_type": "stream",
          "name": "stdout",
          "text": [
            "Logaritmo natural: [0.         0.69314718 1.09861229 1.38629436 1.60943791]\n",
            "Exponencial: [  2.71828183   7.3890561   20.08553692  54.59815003 148.4131591 ]\n"
          ]
        }
      ]
    },
    {
      "cell_type": "code",
      "source": [
        "# Funciones Estadísticas\n",
        "print(\"Media:\", np.mean(arr))\n",
        "print(\"Mediana:\", np.median(arr))\n",
        "print(\"Desviación estándar:\", np.std(arr))\n",
        "print(\"Varianza:\", np.var(arr))\n",
        "print(\"Máximo valor:\", np.max(arr))\n",
        "print(\"Índice del máximo valor:\", np.argmax(arr))\n",
        "print(\"Mínimo valor:\", np.min(arr))\n",
        "print(\"Índice del mínimo valor:\", np.argmin(arr))\n",
        "print(\"Suma de todos los elementos:\", np.sum(arr))"
      ],
      "metadata": {
        "id": "-_AqkE2_wjM1",
        "outputId": "9e98c5ef-68db-4f3c-f1b1-84112ef784c5",
        "colab": {
          "base_uri": "https://localhost:8080/"
        }
      },
      "id": "-_AqkE2_wjM1",
      "execution_count": 9,
      "outputs": [
        {
          "output_type": "stream",
          "name": "stdout",
          "text": [
            "Media: 3.0\n",
            "Mediana: 3.0\n",
            "Desviación estándar: 1.4142135623730951\n",
            "Varianza: 2.0\n",
            "Máximo valor: 5\n",
            "Índice del máximo valor: 4\n",
            "Mínimo valor: 1\n",
            "Índice del mínimo valor: 0\n",
            "Suma de todos los elementos: 15\n"
          ]
        }
      ]
    },
    {
      "cell_type": "code",
      "execution_count": 10,
      "id": "e7680306",
      "metadata": {
        "colab": {
          "base_uri": "https://localhost:8080/"
        },
        "id": "e7680306",
        "outputId": "e6cc70c6-1577-4ec1-f1b0-ade33512baaf"
      },
      "outputs": [
        {
          "output_type": "stream",
          "name": "stdout",
          "text": [
            "Redondeo: [1. 2. 4. 5.]\n",
            "Entero menor (floor): [1. 2. 3. 4.]\n",
            "Entero mayor (ceil): [2. 3. 4. 5.]\n"
          ]
        }
      ],
      "source": [
        "# Funciones de Redondeo\n",
        "arr_decimal = np.array([1.23, 2.47, 3.56, 4.89])\n",
        "print(\"Redondeo:\", np.around(arr_decimal))\n",
        "print(\"Entero menor (floor):\", np.floor(arr_decimal))\n",
        "print(\"Entero mayor (ceil):\", np.ceil(arr_decimal))"
      ]
    },
    {
      "cell_type": "markdown",
      "id": "51b5cda3",
      "metadata": {
        "id": "51b5cda3"
      },
      "source": [
        "## Ejercicios: Haz clic en \"open in colab\" para realizarlos\n",
        "\n",
        "> Solución: https://github.com/4GeeksAcademy/machine-learning-prework/blob/main/02-numpy/02.1-Intro-to-Numpy_solutions.ipynb\n",
        "\n",
        "### Creación de arrays"
      ]
    },
    {
      "cell_type": "markdown",
      "id": "e3c20b3d",
      "metadata": {
        "id": "e3c20b3d"
      },
      "source": [
        "#### Ejercicio 01:  Crea un **vector nulo** (*null vector*) que tenga 10 elementos (★☆☆)\n",
        "\n",
        "Un vector nulo es un array de una dimensión compuesto por ceros (`0`).\n",
        "\n",
        "> NOTA: Revisa la función `np.zeros` (https://numpy.org/doc/stable/reference/generated/numpy.zeros.html)"
      ]
    },
    {
      "cell_type": "code",
      "execution_count": 11,
      "id": "8a758bcf",
      "metadata": {
        "id": "8a758bcf",
        "outputId": "9fcc7765-a781-49b4-a8b4-296690bb2308",
        "colab": {
          "base_uri": "https://localhost:8080/"
        }
      },
      "outputs": [
        {
          "output_type": "execute_result",
          "data": {
            "text/plain": [
              "array([0., 0., 0., 0., 0., 0., 0., 0., 0., 0.])"
            ]
          },
          "metadata": {},
          "execution_count": 11
        }
      ],
      "source": [
        "np.zeros(10)"
      ]
    },
    {
      "cell_type": "markdown",
      "id": "6cbe7954",
      "metadata": {
        "id": "6cbe7954"
      },
      "source": [
        "#### Ejercicio 02: Crea un vector de unos que tenga 10 elementos (★☆☆)\n",
        "\n",
        "> NOTA: Revisa la función `np.ones` (https://numpy.org/doc/stable/reference/generated/numpy.ones.html)"
      ]
    },
    {
      "cell_type": "code",
      "execution_count": 12,
      "id": "86477874",
      "metadata": {
        "id": "86477874",
        "outputId": "2b309aba-1a62-47a6-fe21-b62d66849ae3",
        "colab": {
          "base_uri": "https://localhost:8080/"
        }
      },
      "outputs": [
        {
          "output_type": "execute_result",
          "data": {
            "text/plain": [
              "array([1., 1., 1., 1., 1., 1., 1., 1., 1., 1.])"
            ]
          },
          "metadata": {},
          "execution_count": 12
        }
      ],
      "source": [
        "np.ones(10)"
      ]
    },
    {
      "cell_type": "markdown",
      "id": "0a708990",
      "metadata": {
        "id": "0a708990"
      },
      "source": [
        "#### Ejercicio 03: Investiga la función `linspace` de NumPy y crea un array que contenga 10 elementos (★☆☆)\n",
        "\n",
        "> NOTA: Revisa la función `np.linspace` (https://numpy.org/doc/stable/reference/generated/numpy.linspace.html)"
      ]
    },
    {
      "cell_type": "code",
      "execution_count": 13,
      "id": "477e01f4",
      "metadata": {
        "id": "477e01f4",
        "outputId": "36911cef-62b1-4d1f-d39b-e2896c20705d",
        "colab": {
          "base_uri": "https://localhost:8080/"
        }
      },
      "outputs": [
        {
          "output_type": "execute_result",
          "data": {
            "text/plain": [
              "array([ 1.,  2.,  3.,  4.,  5.,  6.,  7.,  8.,  9., 10.])"
            ]
          },
          "metadata": {},
          "execution_count": 13
        }
      ],
      "source": [
        "np.linspace(1,10,10)"
      ]
    },
    {
      "cell_type": "markdown",
      "id": "9794fe71",
      "metadata": {
        "id": "9794fe71"
      },
      "source": [
        "#### Ejercicio 04: Busca varias formas de generar un array con números aleatorios y crea un array 1D y dos arrays 2D (★★☆)\n",
        "\n",
        "> NOTA: Revisa las funciones `np.random.rand` (https://numpy.org/doc/stable/reference/random/generated/numpy.random.rand.html), `np.random.randint` (https://numpy.org/doc/stable/reference/random/generated/numpy.random.randint.html) y `np.random.randn` (https://numpy.org/doc/stable/reference/random/generated/numpy.random.randn.html)"
      ]
    },
    {
      "cell_type": "code",
      "execution_count": 14,
      "id": "3d9a48a7",
      "metadata": {
        "id": "3d9a48a7",
        "outputId": "1dbb79e5-68aa-4628-9b23-9adb60592aae",
        "colab": {
          "base_uri": "https://localhost:8080/"
        }
      },
      "outputs": [
        {
          "output_type": "execute_result",
          "data": {
            "text/plain": [
              "array([[0.79467863],\n",
              "       [0.04192361],\n",
              "       [0.56750648],\n",
              "       [0.5700104 ],\n",
              "       [0.66411393],\n",
              "       [0.53725965],\n",
              "       [0.45815455],\n",
              "       [0.58969296],\n",
              "       [0.62629606],\n",
              "       [0.5433618 ]])"
            ]
          },
          "metadata": {},
          "execution_count": 14
        }
      ],
      "source": [
        "np.random.rand(10, 1)"
      ]
    },
    {
      "cell_type": "code",
      "source": [
        "# random_sample\n",
        "np.random.rand(10)"
      ],
      "metadata": {
        "id": "YliTCafM1Nsf",
        "outputId": "23e8c5d3-0089-4256-c158-9881143bc342",
        "colab": {
          "base_uri": "https://localhost:8080/"
        }
      },
      "id": "YliTCafM1Nsf",
      "execution_count": 15,
      "outputs": [
        {
          "output_type": "execute_result",
          "data": {
            "text/plain": [
              "array([0.33327146, 0.14419722, 0.11497882, 0.7068666 , 0.8276047 ,\n",
              "       0.18143428, 0.11822584, 0.53261606, 0.08549446, 0.85451477])"
            ]
          },
          "metadata": {},
          "execution_count": 15
        }
      ]
    },
    {
      "cell_type": "code",
      "source": [
        "#random integers from the “discrete uniform”\n",
        "np.random.randint(10, size=(2,4))"
      ],
      "metadata": {
        "id": "QCvGJF0f1R_j",
        "outputId": "be6a658d-2afc-46ea-84bb-219a0072813c",
        "colab": {
          "base_uri": "https://localhost:8080/"
        }
      },
      "id": "QCvGJF0f1R_j",
      "execution_count": 16,
      "outputs": [
        {
          "output_type": "execute_result",
          "data": {
            "text/plain": [
              "array([[8, 4, 6, 9],\n",
              "       [0, 8, 0, 5]])"
            ]
          },
          "metadata": {},
          "execution_count": 16
        }
      ]
    },
    {
      "cell_type": "code",
      "source": [
        "##“standard normal” distribution.\n",
        "np.random.randn(2,3)"
      ],
      "metadata": {
        "id": "0n2YDber1xrL",
        "outputId": "8b987733-e86c-4c8d-bb12-243b88b0a4e2",
        "colab": {
          "base_uri": "https://localhost:8080/"
        }
      },
      "id": "0n2YDber1xrL",
      "execution_count": 17,
      "outputs": [
        {
          "output_type": "execute_result",
          "data": {
            "text/plain": [
              "array([[-1.89028288,  0.13059235,  0.40185019],\n",
              "       [-0.1989767 ,  0.14578855,  0.39745125]])"
            ]
          },
          "metadata": {},
          "execution_count": 17
        }
      ]
    },
    {
      "cell_type": "markdown",
      "id": "78a37e5c",
      "metadata": {
        "id": "78a37e5c"
      },
      "source": [
        "#### Ejercicio 05: Crea una matriz (array 2D) identidad de 5x5 (★☆☆)\n",
        "\n",
        "\n",
        "> NOTA: Revisa la función `np.eye`(https://numpy.org/devdocs/reference/generated/numpy.eye.html)"
      ]
    },
    {
      "cell_type": "code",
      "execution_count": 18,
      "id": "a6751106",
      "metadata": {
        "id": "a6751106",
        "outputId": "862df6c6-721e-42f3-d060-83ed2ca22edf",
        "colab": {
          "base_uri": "https://localhost:8080/"
        }
      },
      "outputs": [
        {
          "output_type": "execute_result",
          "data": {
            "text/plain": [
              "array([[1., 0., 0., 0., 0.],\n",
              "       [0., 1., 0., 0., 0.],\n",
              "       [0., 0., 1., 0., 0.],\n",
              "       [0., 0., 0., 1., 0.],\n",
              "       [0., 0., 0., 0., 1.]])"
            ]
          },
          "metadata": {},
          "execution_count": 18
        }
      ],
      "source": [
        "np.eye(5,5)"
      ]
    },
    {
      "cell_type": "markdown",
      "id": "08bb63e6",
      "metadata": {
        "id": "08bb63e6"
      },
      "source": [
        "#### Ejercicio 06: Crea una matriz con números aleatorios de 3x2 y calcula el valor mínimo y máximo (★☆☆)\n",
        "\n",
        "> NOTA: Revisa la función `np.min` (https://numpy.org/devdocs/reference/generated/numpy.min.html) y `np.max` (https://numpy.org/devdocs/reference/generated/numpy.max.html)"
      ]
    },
    {
      "cell_type": "code",
      "execution_count": 19,
      "id": "3214cca1",
      "metadata": {
        "id": "3214cca1",
        "outputId": "c79e9a73-ffe8-4304-e226-de38fd6002f1",
        "colab": {
          "base_uri": "https://localhost:8080/"
        }
      },
      "outputs": [
        {
          "output_type": "execute_result",
          "data": {
            "text/plain": [
              "array([[20,  7],\n",
              "       [27, 31],\n",
              "       [27, 17]])"
            ]
          },
          "metadata": {},
          "execution_count": 19
        }
      ],
      "source": [
        "matrix_1 = np.random.randint(45, size=(3,2))\n",
        "matrix_1"
      ]
    },
    {
      "cell_type": "code",
      "source": [
        "min_matrix_1 = np.min(matrix_1)\n",
        "min_matrix_1"
      ],
      "metadata": {
        "id": "J2zw_HZT38gw",
        "outputId": "499206be-27bc-4bd8-97b6-5cd9fa5622f9",
        "colab": {
          "base_uri": "https://localhost:8080/"
        }
      },
      "id": "J2zw_HZT38gw",
      "execution_count": 20,
      "outputs": [
        {
          "output_type": "execute_result",
          "data": {
            "text/plain": [
              "7"
            ]
          },
          "metadata": {},
          "execution_count": 20
        }
      ]
    },
    {
      "cell_type": "code",
      "source": [
        "max_matrix_1 = np.max(matrix_1)\n",
        "max_matrix_1"
      ],
      "metadata": {
        "id": "cQe33M7J4V0d",
        "outputId": "b0c6bd1b-40f1-419a-e821-d0fb3e430e19",
        "colab": {
          "base_uri": "https://localhost:8080/"
        }
      },
      "id": "cQe33M7J4V0d",
      "execution_count": 21,
      "outputs": [
        {
          "output_type": "execute_result",
          "data": {
            "text/plain": [
              "31"
            ]
          },
          "metadata": {},
          "execution_count": 21
        }
      ]
    },
    {
      "cell_type": "code",
      "source": [
        "print(f\"Min value: {min_matrix_1} \\nMax value: {max_matrix_1}\")"
      ],
      "metadata": {
        "id": "Mr6uoZpJ5Rc0",
        "outputId": "8017d1b5-b655-48b4-cded-0c2de17a681f",
        "colab": {
          "base_uri": "https://localhost:8080/"
        }
      },
      "id": "Mr6uoZpJ5Rc0",
      "execution_count": 22,
      "outputs": [
        {
          "output_type": "stream",
          "name": "stdout",
          "text": [
            "Min value: 7 \n",
            "Max value: 31\n"
          ]
        }
      ]
    },
    {
      "cell_type": "markdown",
      "id": "57c6c275",
      "metadata": {
        "id": "57c6c275"
      },
      "source": [
        "#### Ejercicio 07: Crea un vector con números aleatorios de 30 elementos y calcula la media (★☆☆)\n",
        "\n",
        "> NOTA: Revisa la función `np.mean` (https://numpy.org/doc/stable/reference/generated/numpy.mean.html)"
      ]
    },
    {
      "cell_type": "code",
      "execution_count": 23,
      "id": "cc960ba5",
      "metadata": {
        "id": "cc960ba5",
        "outputId": "190d4af3-6970-499f-a96a-12bf7e1c20bb",
        "colab": {
          "base_uri": "https://localhost:8080/"
        }
      },
      "outputs": [
        {
          "output_type": "execute_result",
          "data": {
            "text/plain": [
              "array([ 1.38550113,  3.2764826 , -1.55970373, -0.48250784, -1.36209456,\n",
              "       -0.34662334,  0.78751694, -0.77779778, -2.39533048,  0.35808104])"
            ]
          },
          "metadata": {},
          "execution_count": 23
        }
      ],
      "source": [
        "vector_1 = np.random.randn(10)\n",
        "vector_1"
      ]
    },
    {
      "cell_type": "code",
      "source": [
        "media = np.mean(vector_1)\n",
        "print(f\"mean: {media}\")"
      ],
      "metadata": {
        "id": "FU2hPyKy5oCh",
        "outputId": "a406eec7-2c55-4405-9b2d-a7a83088d04d",
        "colab": {
          "base_uri": "https://localhost:8080/"
        }
      },
      "id": "FU2hPyKy5oCh",
      "execution_count": 24,
      "outputs": [
        {
          "output_type": "stream",
          "name": "stdout",
          "text": [
            "mean: -0.11164760120675261\n"
          ]
        }
      ]
    },
    {
      "cell_type": "markdown",
      "id": "2c801667",
      "metadata": {
        "id": "2c801667"
      },
      "source": [
        "#### Ejercicio 08: Convierte la lista `[1, 2, 3]` y la tupla `(1, 2, 3)` en arrays (★☆☆)"
      ]
    },
    {
      "cell_type": "code",
      "execution_count": 25,
      "id": "3f36c71c",
      "metadata": {
        "id": "3f36c71c",
        "outputId": "bf23dfb8-10f7-4c47-f56b-dc2fdf01c9e8",
        "colab": {
          "base_uri": "https://localhost:8080/"
        }
      },
      "outputs": [
        {
          "output_type": "execute_result",
          "data": {
            "text/plain": [
              "array([1, 2, 3])"
            ]
          },
          "metadata": {},
          "execution_count": 25
        }
      ],
      "source": [
        "lista = [1,2,3]\n",
        "array_1 = np.asarray(lista)\n",
        "array_1"
      ]
    },
    {
      "cell_type": "code",
      "source": [
        "tupla = (1,2,3)\n",
        "array_2 = np.asarray(tupla)\n",
        "array_2"
      ],
      "metadata": {
        "id": "Yta4MoAg8Yy8",
        "outputId": "1159fd17-0dd0-402a-b165-7f38c92cd7d3",
        "colab": {
          "base_uri": "https://localhost:8080/"
        }
      },
      "id": "Yta4MoAg8Yy8",
      "execution_count": 26,
      "outputs": [
        {
          "output_type": "execute_result",
          "data": {
            "text/plain": [
              "array([1, 2, 3])"
            ]
          },
          "metadata": {},
          "execution_count": 26
        }
      ]
    },
    {
      "cell_type": "markdown",
      "id": "962bb9fc",
      "metadata": {
        "id": "962bb9fc"
      },
      "source": [
        "### Operaciones entre arrays"
      ]
    },
    {
      "cell_type": "markdown",
      "id": "48d48f01",
      "metadata": {
        "id": "48d48f01"
      },
      "source": [
        "#### Ejercicio 09: Invierte el vector del ejercicio anterior (★☆☆)\n",
        "\n",
        "> NOTA: Revisa la función `np.flip` (https://numpy.org/doc/stable/reference/generated/numpy.flip.html)"
      ]
    },
    {
      "cell_type": "code",
      "execution_count": 27,
      "id": "d3e13052",
      "metadata": {
        "id": "d3e13052",
        "outputId": "59850297-c094-4374-abd2-d3c20f41a110",
        "colab": {
          "base_uri": "https://localhost:8080/"
        }
      },
      "outputs": [
        {
          "output_type": "execute_result",
          "data": {
            "text/plain": [
              "array([3, 2, 1])"
            ]
          },
          "metadata": {},
          "execution_count": 27
        }
      ],
      "source": [
        "np.flip(array_2)"
      ]
    },
    {
      "cell_type": "markdown",
      "id": "233addce",
      "metadata": {
        "id": "233addce"
      },
      "source": [
        "#### Ejercicio 10: Cambia el tamaño de un array aleatorio de dimensiones 5x12 en 12x5 (★☆☆)\n",
        "\n",
        "> NOTA: Revisa la función `np.reshape` (https://numpy.org/doc/stable/reference/generated/numpy.reshape.html)"
      ]
    },
    {
      "cell_type": "code",
      "execution_count": 28,
      "id": "bfaed09f",
      "metadata": {
        "id": "bfaed09f",
        "outputId": "22adaf37-f3f6-4d3f-883b-d56aa014d446",
        "colab": {
          "base_uri": "https://localhost:8080/"
        }
      },
      "outputs": [
        {
          "output_type": "execute_result",
          "data": {
            "text/plain": [
              "array([[54, 37, 78, 14, 75, 41, 95, 56, 25, 71, 57, 65],\n",
              "       [ 4, 60, 90, 34, 29, 94, 76, 79, 40,  2, 98, 22],\n",
              "       [28, 92, 87, 49, 36, 46, 61, 56, 89,  7,  3, 67],\n",
              "       [ 9, 13, 38, 93,  4, 47, 38, 43, 66, 72, 91, 88],\n",
              "       [12, 89, 48, 12,  6, 43, 59, 66, 88, 41, 36, 42]])"
            ]
          },
          "metadata": {},
          "execution_count": 28
        }
      ],
      "source": [
        "matrix_3 = np.random.randint(100, size=(5,12))\n",
        "matrix_3"
      ]
    },
    {
      "cell_type": "code",
      "source": [
        "np.reshape(matrix_3, (12,5))"
      ],
      "metadata": {
        "id": "EsDpUMgqfHNt",
        "outputId": "4dcb828c-9373-4cb1-d5a3-c348d9e6a109",
        "colab": {
          "base_uri": "https://localhost:8080/"
        }
      },
      "id": "EsDpUMgqfHNt",
      "execution_count": 30,
      "outputs": [
        {
          "output_type": "execute_result",
          "data": {
            "text/plain": [
              "array([[54, 37, 78, 14, 75],\n",
              "       [41, 95, 56, 25, 71],\n",
              "       [57, 65,  4, 60, 90],\n",
              "       [34, 29, 94, 76, 79],\n",
              "       [40,  2, 98, 22, 28],\n",
              "       [92, 87, 49, 36, 46],\n",
              "       [61, 56, 89,  7,  3],\n",
              "       [67,  9, 13, 38, 93],\n",
              "       [ 4, 47, 38, 43, 66],\n",
              "       [72, 91, 88, 12, 89],\n",
              "       [48, 12,  6, 43, 59],\n",
              "       [66, 88, 41, 36, 42]])"
            ]
          },
          "metadata": {},
          "execution_count": 30
        }
      ]
    },
    {
      "cell_type": "markdown",
      "id": "645e5381",
      "metadata": {
        "id": "645e5381"
      },
      "source": [
        "#### Ejercicio 11: Convierte la lista `[1, 2, 0, 0, 4, 0]` en un array y obtén el índice de los elementos que no son cero (★★☆)\n",
        "\n",
        "> NOTA: Revisa la función `np.where` (https://numpy.org/devdocs/reference/generated/numpy.where.html)"
      ]
    },
    {
      "cell_type": "code",
      "execution_count": 32,
      "id": "b2652fee",
      "metadata": {
        "id": "b2652fee",
        "outputId": "9c2326ee-ea6e-4173-d9fb-5cccd54dd508",
        "colab": {
          "base_uri": "https://localhost:8080/"
        }
      },
      "outputs": [
        {
          "output_type": "execute_result",
          "data": {
            "text/plain": [
              "array([1, 2, 0, 0, 4, 0])"
            ]
          },
          "metadata": {},
          "execution_count": 32
        }
      ],
      "source": [
        "l = [1, 2, 0, 0, 4, 0]\n",
        "array_3 = np.asarray(l)\n",
        "array_3"
      ]
    },
    {
      "cell_type": "code",
      "source": [
        "np.where(array_3!=0)"
      ],
      "metadata": {
        "id": "0scY7ccyf-_7",
        "outputId": "2051dd7e-e43b-412b-f941-94206b9689f3",
        "colab": {
          "base_uri": "https://localhost:8080/"
        }
      },
      "id": "0scY7ccyf-_7",
      "execution_count": 33,
      "outputs": [
        {
          "output_type": "execute_result",
          "data": {
            "text/plain": [
              "(array([0, 1, 4]),)"
            ]
          },
          "metadata": {},
          "execution_count": 33
        }
      ]
    },
    {
      "cell_type": "markdown",
      "id": "e7948dbb",
      "metadata": {
        "id": "e7948dbb"
      },
      "source": [
        "#### Ejercicio 12: Convierte la lista `[0, 5, -1, 3, 15]` en un array, multiplica sus valores por `-2` y obtén los elementos pares (★★☆)"
      ]
    },
    {
      "cell_type": "code",
      "execution_count": 34,
      "metadata": {
        "id": "QQYjKcq8p01U",
        "outputId": "f81c56e2-7b06-478f-fe87-5a38efa97b7a",
        "colab": {
          "base_uri": "https://localhost:8080/"
        }
      },
      "outputs": [
        {
          "output_type": "execute_result",
          "data": {
            "text/plain": [
              "array([ 0,  5, -1,  3, 15])"
            ]
          },
          "metadata": {},
          "execution_count": 34
        }
      ],
      "source": [
        "l_1 = [0, 5, -1, 3, 15]\n",
        "array_4 = np.asarray(l_1)\n",
        "array_4"
      ],
      "id": "QQYjKcq8p01U"
    },
    {
      "cell_type": "code",
      "source": [
        "array_4 = array_4 * -2\n",
        "\n",
        "even_numbers = array_4[array_4 % 2 == 0]\n",
        "even_numbers"
      ],
      "metadata": {
        "id": "gSwnGN5sg2WA",
        "outputId": "8904cee7-7b93-41ba-d35a-d0a2071e3b05",
        "colab": {
          "base_uri": "https://localhost:8080/"
        }
      },
      "id": "gSwnGN5sg2WA",
      "execution_count": 37,
      "outputs": [
        {
          "output_type": "execute_result",
          "data": {
            "text/plain": [
              "array([  0, -10,   2,  -6, -30])"
            ]
          },
          "metadata": {},
          "execution_count": 37
        }
      ]
    },
    {
      "cell_type": "markdown",
      "id": "a90d6f3e",
      "metadata": {
        "id": "a90d6f3e"
      },
      "source": [
        "#### Ejercicio 13: Crea un vector aleatorio de 10 elementos y ordénalo de menor a mayor (★★☆)\n",
        "\n",
        "> NOTA: Revisa la función `np.sort` (https://numpy.org/doc/stable/reference/generated/numpy.sort.html)"
      ]
    },
    {
      "cell_type": "code",
      "execution_count": 39,
      "id": "bc373a83",
      "metadata": {
        "id": "bc373a83",
        "outputId": "ade8362d-8d7b-4697-c718-bef56115b66a",
        "colab": {
          "base_uri": "https://localhost:8080/"
        }
      },
      "outputs": [
        {
          "output_type": "execute_result",
          "data": {
            "text/plain": [
              "array([-0.47502113,  0.66324205, -2.50868487, -2.20171371,  0.44291002,\n",
              "       -0.02184891,  1.08994906,  0.39593306, -0.19505006, -0.22145636])"
            ]
          },
          "metadata": {},
          "execution_count": 39
        }
      ],
      "source": [
        "vector_2 = np.random.randn(10)\n",
        "vector_2"
      ]
    },
    {
      "cell_type": "code",
      "source": [
        "np.sort(vector_2)"
      ],
      "metadata": {
        "id": "LHif7qx2q08s",
        "outputId": "60cf0fc3-b190-4681-d18b-3bd31ed4ce62",
        "colab": {
          "base_uri": "https://localhost:8080/"
        }
      },
      "id": "LHif7qx2q08s",
      "execution_count": 40,
      "outputs": [
        {
          "output_type": "execute_result",
          "data": {
            "text/plain": [
              "array([-2.50868487, -2.20171371, -0.47502113, -0.22145636, -0.19505006,\n",
              "       -0.02184891,  0.39593306,  0.44291002,  0.66324205,  1.08994906])"
            ]
          },
          "metadata": {},
          "execution_count": 40
        }
      ]
    },
    {
      "cell_type": "markdown",
      "id": "5e9b6115",
      "metadata": {
        "id": "5e9b6115"
      },
      "source": [
        "#### Ejercicio 14: Genera dos vectores aleatorios de 8 elementos y aplica las operaciones de suma, resta y multiplicación entre ellos (★★☆)\n",
        "\n",
        "> NOTA: Revisa las funciones matemáticas: https://numpy.org/doc/stable/reference/routines.math.html"
      ]
    },
    {
      "cell_type": "code",
      "execution_count": 41,
      "id": "cc77e421",
      "metadata": {
        "id": "cc77e421"
      },
      "outputs": [],
      "source": [
        "a = np.random.randint(8, size=(1,8))\n",
        "b = np.random.rand(8)"
      ]
    },
    {
      "cell_type": "code",
      "source": [
        "suma = a + b\n",
        "resta = a - b\n",
        "mult = a * b\n",
        "\n",
        "print(f\" la suma es: {suma}, \\nla resta es: {resta},\\nla multiplicacion es : {mult}\")"
      ],
      "metadata": {
        "id": "CmKGz40ssIP-",
        "outputId": "da4aad0d-58e0-47fb-a7ab-907cf6b9133c",
        "colab": {
          "base_uri": "https://localhost:8080/"
        }
      },
      "id": "CmKGz40ssIP-",
      "execution_count": 43,
      "outputs": [
        {
          "output_type": "stream",
          "name": "stdout",
          "text": [
            " la suma es: [[1.65769211 5.60620719 1.72502369 6.79122398 6.84164184 2.39199051\n",
            "  1.71304427 5.57327247]], \n",
            "la resta es: [[0.34230789 4.39379281 0.27497631 5.20877602 5.15835816 1.60800949\n",
            "  0.28695573 4.42672753]],\n",
            "la multiplicacion es : [[0.65769211 3.03103597 0.72502369 4.74734388 5.04985104 0.78398102\n",
            "  0.71304427 2.86636234]]\n"
          ]
        }
      ]
    },
    {
      "cell_type": "markdown",
      "id": "c8e8daa0",
      "metadata": {
        "id": "c8e8daa0"
      },
      "source": [
        "#### Ejercicio 15: Convierte la lista `[1, 2, 3, 4, 5, 6, 7, 8, 9, 10, 11, 12]` en un array y transfórmalo en una matriz con filas de 3 columnas (★★★)"
      ]
    },
    {
      "cell_type": "code",
      "execution_count": 46,
      "metadata": {
        "id": "ZLCvxMQ6p01W",
        "outputId": "9dc689a3-7b3c-4f41-f44e-f29464338407",
        "colab": {
          "base_uri": "https://localhost:8080/"
        }
      },
      "outputs": [
        {
          "output_type": "execute_result",
          "data": {
            "text/plain": [
              "array([[ 1,  2,  3],\n",
              "       [ 4,  5,  6],\n",
              "       [ 7,  8,  9],\n",
              "       [10, 11, 12]])"
            ]
          },
          "metadata": {},
          "execution_count": 46
        }
      ],
      "source": [
        "l_2 = [1, 2, 3, 4, 5, 6, 7, 8, 9, 10, 11, 12]\n",
        "array_5 = np.asarray(l_2)\n",
        "\n",
        "matrix_4 = np.reshape(array_5, (4,3))\n",
        "matrix_4"
      ],
      "id": "ZLCvxMQ6p01W"
    }
  ],
  "metadata": {
    "kernelspec": {
      "display_name": "Python 3",
      "language": "python",
      "name": "python3"
    },
    "language_info": {
      "codemirror_mode": {
        "name": "ipython",
        "version": 3
      },
      "file_extension": ".py",
      "mimetype": "text/x-python",
      "name": "python",
      "nbconvert_exporter": "python",
      "pygments_lexer": "ipython3",
      "version": "3.11.4"
    },
    "colab": {
      "provenance": [],
      "include_colab_link": true
    }
  },
  "nbformat": 4,
  "nbformat_minor": 5
}